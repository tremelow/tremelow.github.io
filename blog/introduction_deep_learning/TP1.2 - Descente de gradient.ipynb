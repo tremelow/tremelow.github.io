{
 "cells": [
  {
   "cell_type": "markdown",
   "metadata": {},
   "source": [
    "# Projet 1, TP2 - Descente de gradient déterministe\n",
    "\n",
    "Pour l'exemple de régression linéaire du TP précédent, les méthodes de résolution directe que vous avez déjà utilisées calculent une matrice $2 \\times 2$ et l'inversent. \n",
    "Dans la suite, on va faire comme si cette matrice et cette résolution de système étaient trop coûteuses pour notre petit ordinateur. \n",
    "À la place, on va considérer une méthode itérative qui ne considère pas de matrice : **la descente de gradient**.\n",
    "\n",
    "*Remarque :* Si vous souhaitez lire des articles, le domaine de l'optimisation dénote généralement $x$ la variable selon laquelle on optimise, et $x \\mapsto f(x)$ la fonction coût. En apprentissage automatique, $x$ dénote généralement les *inputs* et $f$ est le modèle qu'on évalue, de paramètres dénotés $\\theta$. On minimise une fonction coût $\\theta \\mapsto \\mathcal{L}(\\theta)$ par rapport aux paramètres $\\theta$. Il faut faire attention à ne pas mélanger les notations en fonction de ce que l'on lit. Ici on va utiliser le formalisme de l'apprentissage."
   ]
  },
  {
   "cell_type": "code",
   "execution_count": null,
   "metadata": {},
   "outputs": [],
   "source": [
    "import numpy as np\n",
    "from numpy.polynomial.polynomial import Polynomial\n",
    "\n",
    "from plotly.subplots import make_subplots\n",
    "import plotly.graph_objects as go\n",
    "\n",
    "import torch\n",
    "\n",
    "rng_seed = sum(ord(c) ** 2 for c in \"R5.A.12-ModMath\")\n",
    "torch.manual_seed(rng_seed)"
   ]
  },
  {
   "cell_type": "markdown",
   "metadata": {},
   "source": [
    "### La fonction à minimiser\n",
    "\n",
    "Ci-dessous, on définit et on affiche la fonction $\\theta \\mapsto \\mathcal{L}(\\theta)$ que l'on cherche à minimiser, définie par\n",
    "$$ \\mathcal{L}(\\theta) = P(\\theta) / (1 + \\theta^2) , $$\n",
    "avec $P$ un polynôme de degré 4 bien choisi. \n",
    "Elle admet deux minima locaux, dont un minimum global. \n",
    "En ces points, la fonction, que l'on appelle *loss* vaut `-25.33866607` ou `-8.34234203`. \n",
    "L'objectif de cette partie est de trouver numériquement ces minima et les *loss* associées."
   ]
  },
  {
   "cell_type": "code",
   "execution_count": null,
   "metadata": {},
   "outputs": [],
   "source": [
    "# Définition et affichage de la fonction à minimiser\n",
    "\n",
    "# coefficients polynomiaux bien choisis pour l'exemple 😇\n",
    "example_coeffs = (\n",
    "    16.8350101057134,\n",
    "    10.621467774429892,\n",
    "    -45.29852223580801,\n",
    "    3.380171476274114,\n",
    "    6.068075889020002,\n",
    ")\n",
    "example_poly = Polynomial(example_coeffs)\n",
    "\n",
    "\n",
    "def example_loss_fun(param):\n",
    "    return example_poly(param) / (1.0 + param**2)\n",
    "\n",
    "\n",
    "param_min, param_max = -4.5, 3.5\n",
    "param_vals_continuous = np.linspace(param_min, param_max, 500)\n",
    "loss_vals_continuous = example_loss_fun(param_vals_continuous)\n",
    "\n",
    "trace_continuous = go.Scatter(\n",
    "    x=param_vals_continuous, y=loss_vals_continuous, name=\"erreur\"\n",
    ")\n",
    "fig_continuous = go.Figure(\n",
    "    data=[trace_continuous],\n",
    "    layout=dict(\n",
    "        width=500,\n",
    "        height=250,\n",
    "        margin=dict(l=20, r=20, b=20, t=20),\n",
    "        xaxis_title=\"param\",\n",
    "        yaxis_title=\"erreur\",\n",
    "    ),\n",
    ")\n",
    "fig_continuous.show()"
   ]
  },
  {
   "cell_type": "markdown",
   "metadata": {},
   "source": [
    "### Approximation linéaire\n",
    "\n",
    "Pour différents points $\\theta_0$, on trace la droite tangente d'équation\n",
    "$$ y = \\ell(\\theta; \\theta_0) := \\nabla\\mathcal{L}(\\theta_0) (\\theta - \\theta_0) + \\mathcal{L}(\\theta) . $$\n",
    "où $\\nabla\\mathcal{L}$ dénote la dérivée de $\\mathcal{L}$. Pour les fonctions à plusieurs variables, on appellera cela le gradient, que l'on définira au prochain TP.\n",
    "\n",
    "Zoomer autour de ces points pour vérifier qu'on a bien $\\ell(\\theta, \\theta_0) \\approx \\mathcal{L}(\\theta)$. "
   ]
  },
  {
   "cell_type": "code",
   "execution_count": null,
   "metadata": {},
   "outputs": [],
   "source": [
    "# Définition de la fonction dérivée et affichage de l'approximation linéaire en quelques points\n",
    "\n",
    "example_poly_deriv = example_poly.deriv()\n",
    "\n",
    "\n",
    "def example_loss_fun_deriv(param):\n",
    "    poly_vals = example_poly(param)\n",
    "    dpoly_vals = example_poly_deriv(param)\n",
    "    param_sq_p1 = 1.0 + param**2\n",
    "    return (dpoly_vals * param_sq_p1 - 2.0 * param * poly_vals) / param_sq_p1**2\n",
    "\n",
    "\n",
    "fig = go.Figure(fig_continuous)\n",
    "\n",
    "param_vals = np.array([-4.0, -2.5, -0.5, 1.0, 2.5])\n",
    "loss_vals = example_loss_fun(param_vals)\n",
    "dloss_vals = example_loss_fun_deriv(param_vals)\n",
    "\n",
    "fig.add_scatter(\n",
    "    x=param_vals,\n",
    "    y=loss_vals,\n",
    "    mode=\"markers+text\",\n",
    "    marker=dict(color=\"red\"),\n",
    "    text=[\"(a)\", \"(b)\", \"(c)\", \"(d)\", \"(e)\"],\n",
    "    textposition=\"top center\",\n",
    ")\n",
    "\n",
    "for theta_0, loss_0, dloss_0 in zip(param_vals, loss_vals, dloss_vals):\n",
    "    theta_span = theta_0 + 0.7 * np.array([-1.0, 1.0])\n",
    "    affine_span = dloss_0 * (theta_span - theta_0) + loss_0\n",
    "    fig.add_scatter(\n",
    "        x=theta_span, y=affine_span, mode=\"lines\", line=dict(color=\"red\", dash=\"dot\")\n",
    "    )\n",
    "\n",
    "fig.update_yaxes()\n",
    "y_min_tmp, y_max_tmp = loss_vals_continuous.min(), loss_vals_continuous.max()\n",
    "y_min = y_min_tmp - 0.1 * (y_max_tmp - y_min_tmp)\n",
    "y_max = y_max_tmp + 0.1 * (y_max_tmp - y_min_tmp)\n",
    "fig.update_layout(\n",
    "    xaxis=dict(title=\"param\", range=[param_min, param_max]),\n",
    "    yaxis=dict(title=\"erreur\", range=[y_min, y_max]),\n",
    "    showlegend=False,\n",
    ")\n",
    "fig.show()"
   ]
  },
  {
   "cell_type": "markdown",
   "metadata": {},
   "source": [
    "## Partie 1 - L'algorithme de descente de gradient\n",
    "\n",
    "À partir d'un paramètre initial $\\theta_0$, on cherche à se rapprocher du puits le plus proche. \n",
    "Pour cela, on définit un nouveau point $\\theta_1$ qui va dépendre notamment du signe de la dérivée : \n",
    "- Si $\\nabla\\mathcal{L}(\\theta_0)$ est strictement positive (comme au point $(c)$ ci-dessus), alors la fonction est croissante, et on veut choisir $\\theta_1 < \\theta_0$. \n",
    "- si $\\nabla\\mathcal{L}(\\theta_0) < 0$, alors $\\theta_1 > \\theta_0$. Enfin, si $\\mathcal{L}(\\theta_0) = 0$. \n",
    "- si $\\nabla\\mathcal{L}(\\theta_0) = 0$, on supposera qu'on est sur un minimum.\n",
    "\n",
    "Cela revient à «glisser» le long de la tangente, définir un nouveau paramètre $\\theta_1$ correspondant à une *loss* plus faible, puis recommencer pour définir un $\\theta_2$, etc.\n",
    "On définit ainsi une suite $(\\theta_t)_{t \\geq 0}$ où l'erreur s'améliore petit à petit.\n",
    "Ci-dessous, on fournit une fonction `plot_error_evolution` qui permet d'afficher la suite et l'évolution de l'erreur en fonction de $t$."
   ]
  },
  {
   "cell_type": "code",
   "execution_count": 4,
   "metadata": {},
   "outputs": [],
   "source": [
    "def plot_error_evolution(theta_t, fig=None, min_val=None):\n",
    "    alpha = np.linspace(0.0, 1.0, len(theta_t))\n",
    "    loss_t = example_loss_fun(theta_t)\n",
    "\n",
    "    if fig is None:\n",
    "        fig = make_subplots(rows=1, cols=2)\n",
    "        fig.add_trace(trace_continuous, row=1, col=1)\n",
    "        fig.update_layout(\n",
    "            width=800, height=250, margin=dict(l=20, r=20, b=20, t=20), showlegend=False\n",
    "        )\n",
    "        fig.update_yaxes(type=\"log\", row=1, col=2)\n",
    "\n",
    "    params = dict(mode=\"markers\", marker=dict(color=alpha), row=1, col=1)\n",
    "    fig.add_scatter(x=theta_t, y=loss_t, name=\"(a)\", **params)\n",
    "\n",
    "    if min_val is None:\n",
    "        min_val = loss_t.min() + 1e-8\n",
    "    fig.add_scatter(y=loss_t - min_val, row=1, col=2)\n",
    "\n",
    "    return fig"
   ]
  },
  {
   "cell_type": "markdown",
   "metadata": {},
   "source": [
    "### 1.1. Descente brutale vers le puits\n",
    "\n",
    "L'idée la plus simple est de faire un pas dans la bonne direction, \n",
    "$$ \\theta_{t+1} = \\theta_t - \\gamma\\ {\\rm signe}\\bigl( \\nabla\\mathcal{L}(\\theta_t) \\bigr) . $$\n",
    "Le paramètre $\\gamma$ s'appelle le *learning rate*. \n",
    "On obtient une approximation $\\mathcal{L}(\\theta_{t+1}) \\approx \\mathcal{L}(\\theta_t) - \\gamma | \\nabla\\mathcal{L}(\\theta_t) |$, ce qui indique que l'erreur devrait décroitre.\n",
    "\n",
    "Pour $\\theta_0 = -3.8$, calculer les points $\\theta_t$ pour $t$ allant de $1$ à $10$ avec $\\gamma = 0.5$. À l'aide de la fonction `plot_error_evolution`, afficher ces points ainsi que l'évolution de la différence entre $\\mathcal{L}(\\theta_t)$ et le minimum le plus proche en fonction de $t$. Est-ce qu'on atteint bien le minimum le plus proche ? Qu'en est-il si on démarre avec $\\theta_0 = 3.3$ ?"
   ]
  },
  {
   "cell_type": "code",
   "execution_count": null,
   "metadata": {},
   "outputs": [],
   "source": [
    "gamma = 0.5\n",
    "num_iters = 10\n",
    "theta_t = np.repeat([[-3.8, 3.3]], num_iters, axis=0)\n",
    "for t in range(1, num_iters):\n",
    "    #TODO appliquer les itérations\n",
    "    # theta_t[t] = ...\n",
    "\n",
    "fig = plot_error_evolution(theta_t[:, 0], min_val=-25.33866607)\n",
    "fig = plot_error_evolution(theta_t[:, 1], fig=fig, min_val=-8.34234203)\n",
    "fig.show()"
   ]
  },
  {
   "cell_type": "markdown",
   "metadata": {},
   "source": [
    "### 1.2. La descente de gradient classique\n",
    "\n",
    "Plutôt que de faire évoluer le paramètre avec un pas fixe, on choisit le pas en fonction de la proximité au puits :\n",
    "$$ \\theta_{t+1} = \\theta_t - \\gamma\\ \\nabla\\mathcal{L}(\\theta_t) , $$\n",
    "ce qui correspond à une approximation $\\mathcal{L}(\\theta_{t+1}) \\approx \\mathcal{L}(\\theta_t) - \\gamma \\bigl( \\mathcal{L}(\\theta_t) \\bigr)^2$.\n",
    "\n",
    "Pour $\\theta_0 = -3.8$, calculer les points $\\theta_t$ pour $t$ allant de $1$ à $10$ avec $\\gamma = 0.5$. À l'aide de la fonction `plot_error_evolution`, afficher ces points ainsi que l'évolution de la différence entre $\\mathcal{L}(\\theta_t)$ et le minimum le plus proche en fonction de $t$. Est-ce qu'on atteint bien le minimum le plus proche ? Qu'en est-il si on démarre avec $\\theta_0 = 3.3$ ?"
   ]
  },
  {
   "cell_type": "code",
   "execution_count": null,
   "metadata": {},
   "outputs": [],
   "source": [
    "#TODO appliquer l'algorithme de descente de gradient et afficher les résultats"
   ]
  },
  {
   "cell_type": "markdown",
   "metadata": {},
   "source": [
    "### 1.3. L'effet du *learning rate*\n",
    "\n",
    "Effectuer la même étude de la descente de gradient avec $\\gamma = 10^-3$ et $120$ itérations. Commenter.\n",
    "\n",
    "*Remarque :* Le *learning rate* $\\gamma$ est un **hyperparamètre**, c'est-à-dire un paramètre qu'on n'apprend pas. Il est généralement entre $10^{-2}$ et $10^{-5}$ en fonction des applications. Voici une brève [vidéo d'explication](https://www.youtube.com/watch?v=TwJ8aSZoh2U) (en anglais) sur le comportement de l'apprentissage en fonction de cet hyperparamètre."
   ]
  },
  {
   "cell_type": "code",
   "execution_count": null,
   "metadata": {},
   "outputs": [],
   "source": [
    "#TODO"
   ]
  },
  {
   "cell_type": "markdown",
   "metadata": {},
   "source": [
    "## Partie 2 - Différentiation automatique"
   ]
  },
  {
   "cell_type": "markdown",
   "metadata": {},
   "source": [
    "### 2.1. Le graphe de computation\n",
    "\n",
    "Un intérêt majeur de PyTorch est que les tenseurs ont une «mémoire» des différentes opérations dont ils sont issus à travers un *graphe de calcul*, ce qui permet de calculer automatiquement la dérivée. Il y a pour ça deux approches, à partir d'une assignation `y = f(x0, x1)` :\n",
    "1. la fonction `torch.autograd.grad(y, (x0, x1))` qui renvoie un tuple `(dy/dx0, dy/dx1)` ;\n",
    "2. la méthode `torch.Tensor.backward()` qui ajoute `dy/dx0` à `x0.grad`, et de même pour `x1`.\n",
    "\n",
    "Pour appliquer ces approches, il faut **au préalable** indiquer que les tenseurs `x0` et `x1` sont différentiables, soit avec l'argument `requires_grad=True` lors de la construction, soit avec la méthode `x0.requires_grad_()`."
   ]
  },
  {
   "cell_type": "code",
   "execution_count": null,
   "metadata": {},
   "outputs": [],
   "source": [
    "# deux constructions équivalentes\n",
    "x0 = torch.randn((), requires_grad=True)\n",
    "x1 = torch.randn(()).requires_grad_()\n",
    "\n",
    "y0 = x0 * x1\n",
    "grad0, grad1 = torch.autograd.grad(y0, (x0, x1))\n",
    "y1 = x0 * x1  # même calcul\n",
    "y1.backward()\n",
    "\n",
    "# comparaison des méthodes\n",
    "x0.grad - grad0, x1.grad - grad1"
   ]
  },
  {
   "cell_type": "markdown",
   "metadata": {},
   "source": [
    "### 2.2. Quelques avertissements\n",
    "\n",
    "*Avertissements :* \n",
    "1. Par défaut, le graphe de calcul est supprimé après l'appel de `grad` ou de `backward`. On ne peut pas effectuer cette opération deux fois sur le même tenseur ;\n",
    "2. Avec `grad(y, x0)`, la sortie est un 1-tuple `(dy/dx0,)` ;\n",
    "3. Avec `backward`, on **ajoute** le gradient à `x.grad`, il faut penser à le remettre à zéro lorsque nécessaire ;\n",
    "4. Si on ne fait pas attention et qu'on enchaîne trop d'opérations avec un tenseur différentiable, l'impact mémoire du graphe de calcul risque d'exploser.\n",
    "\n",
    "On illustre le troisième point ci-dessous."
   ]
  },
  {
   "cell_type": "code",
   "execution_count": null,
   "metadata": {},
   "outputs": [],
   "source": [
    "# deux constructions équivalentes\n",
    "x0 = torch.randn((), requires_grad=True)\n",
    "x1 = torch.randn(()).requires_grad_()\n",
    "\n",
    "y = x0 * x1\n",
    "z = x0 + x1\n",
    "\n",
    "y.backward()\n",
    "z.backward()\n",
    "somme_grads = x1.item() + 1.0  # la méthode item fait la conversion tenseur -> float\n",
    "\n",
    "print(x0.grad.item() - somme_grads)"
   ]
  },
  {
   "cell_type": "markdown",
   "metadata": {},
   "source": [
    "### 2.3. Modification d'un tenseur différentiable\n",
    "\n",
    "Pour modifier un tenseur différentiable, il faut faire l'opération dans un environnement `torch.no_grad()`.\n",
    "\n",
    "*Remarque :* Avec TensorFlow, la philosophie est opposée : toutes les opérations sont `no_grad` par défaut et il faut spécifier lorsque l'on souhaite grapher les calculs.\n",
    "\n",
    "Observer cette contrainte dans la cellule suivante."
   ]
  },
  {
   "cell_type": "code",
   "execution_count": 41,
   "metadata": {},
   "outputs": [],
   "source": [
    "def naive_update(x):\n",
    "    x -= 0.1\n",
    "    return x\n",
    "\n",
    "def no_grad_update(x):\n",
    "    with torch.no_grad():\n",
    "        x -= 0.1\n",
    "    return x\n",
    "\n",
    "x = torch.randn((), requires_grad=True)\n",
    "\n",
    "#TODO comparer les deux fonctions"
   ]
  },
  {
   "cell_type": "markdown",
   "metadata": {},
   "source": [
    "### 2.4. Application au problème d'optimisation\n",
    "\n",
    "En utilisant `torch.autograd.grad`, mettre en place l'algorithme de descente de gradient avec $\\theta_0 = -3.8$.\n",
    "Penser à utiliser `Tensor.item()` pour sauvegarder les valeurs de $\\theta_t$ sans conserver le graphe de calcul.\n",
    "\n",
    "Au prochain TP, nous utiliserons la structure `Optimizer` de PyTorch qui permet d'utiliser `backwards` sans avoir de souci avec l'accumulation des gradients, et sans avoir à se soucier des environnements `no_grad`."
   ]
  },
  {
   "cell_type": "code",
   "execution_count": null,
   "metadata": {},
   "outputs": [],
   "source": [
    "#TODO"
   ]
  },
  {
   "cell_type": "markdown",
   "metadata": {},
   "source": [
    "## Partie 3 - Pour aller plus loin\n",
    "\n",
    "On présente ici une amélioration possible à la descente de gradient, et des liens avec le contexte de l'apprentissage automatique."
   ]
  },
  {
   "cell_type": "markdown",
   "metadata": {},
   "source": [
    "### 3.1. Descente avec moment\n",
    "\n",
    "Une amélioration possible de la descente de gradient est l'ajout d'un moment, c'est-à-dire une inertie à l'amplitude de descente. \n",
    "L'algorithme implique maintenant une nouvelle variable $g_t$ représentant le gradient intertiel, et s'écrit\n",
    "$$ g_{t+1} = \\nabla\\mathcal{L}(\\theta_t) + \\mu g_t, \\qquad \\theta_{t+1} = \\theta_t - g_{t+1} . $$\n",
    "pour une paramètre $\\mu$ appelé le *momentum*.\n",
    "Voici une [vidéo d'explication](https://www.youtube.com/watch?v=r-rYz_PEWC8) (en anglais). \n",
    "Cela permet parfois de sortir de minima locaux.\n",
    "\n",
    "*Remarque :* Il existe encore d'autres méthodes, qui choisisse par exemple $\\gamma$ en fonction du comportement de la fonction, ou qui se basent sur des analyses plus fine comme avec la méthode de Newton ou les méthodes quasi-Newton. Pour le deep learning, on observera au prochain TP le comportement de la méthode [Adam](https://arxiv.org/abs/1412.6980).\n",
    "\n",
    "Mettre en place cette méthode avec $\\gamma = 10^{-2}$, $\\mu = 0.95$ et $\\theta_0 = 3.3$, sur $200$ itérations. Afficher les résultats."
   ]
  },
  {
   "cell_type": "code",
   "execution_count": null,
   "metadata": {},
   "outputs": [],
   "source": [
    "#TODO"
   ]
  },
  {
   "cell_type": "markdown",
   "metadata": {},
   "source": [
    "### 3.2. L'intérêt des *checkpoints*\n",
    "\n",
    "Recommencer avec $\\gamma = 10^{-2}$, $\\mu = 0.97$ et $\\theta_0 = -3.8$, sur $200$ itérations.\n",
    "\n",
    "On voit que l'erreur diminue, puis augmente fortement. Lors d'un apprentissage, il est intéressant de sauvegarder le meilleur résultat au cas où on sortirait du «bon» puits. On peut alors recommencer ponctuellement depuis ce point avec un *learning rate* plus faible."
   ]
  },
  {
   "cell_type": "code",
   "execution_count": null,
   "metadata": {},
   "outputs": [],
   "source": [
    "#TODO"
   ]
  },
  {
   "cell_type": "markdown",
   "metadata": {},
   "source": [
    "### 3.3. Entraîner avec divers paramètres initiaux\n",
    "\n",
    "On voit dans l'exemple précédent que selon où le paramètre initial se situe, la descente de gradient ne converge pas vers le même minimum. \n",
    "En l'occurrence, il y a deux puits, et on converge vers l'un ou l'autre en fonction qu'on choisisse $\\theta_0$ à gauche ou à droite du maximum local central.\n",
    "Ci-dessous, un exemple de fonction bien plus pathologique (fonction de Whitley, issue de [ce rapport, Sec. A.7](https://www.uni-goettingen.de/de/document/download/9aa76b19d6bc767fb1f9733b21854cb5.pdf/Bachelorarbeit_Brachem_Carsten.pdf)), plus similaire à ce qui apparaît en apprentissage.\n",
    "On voit bien qu'il peut y avoir de très diverses valeurs de *loss* finale. \n",
    "Ainsi, en *deep learning*, il faut parfois entrainer plusieurs modèles initialisés différemment, et choisir le meilleur.\n",
    "\n",
    "Utiliser `torch.randn` pour initialiser plusieurs $\\theta_0$, et effectuer plusieurs descentes de gradient en même temps. Sélectionner ensuite le meilleur paramètre. On pourra utiliser une descente de gradient standard ou une descente plus élaborée."
   ]
  },
  {
   "cell_type": "code",
   "execution_count": null,
   "metadata": {},
   "outputs": [],
   "source": [
    "def whitney_loss_fun(x):\n",
    "    xs = (-1.6681, 0.0369, -2.0580, -1.4312, -1.9171, -0.5520)\n",
    "    x_m1 = (1.0 - x) ** 2\n",
    "    tot = x_m1**2 / 4000.0 - torch.cos(x_m1**2) + 1.0\n",
    "    for xi in xs:\n",
    "        ener_i = ((xi - x) ** 2 + x_m1) ** 2\n",
    "        tot += ener_i / 4000.0 - torch.cos(ener_i) + 1.0\n",
    "    return tot\n",
    "\n",
    "\n",
    "x = torch.linspace(-1.0, 1.0, 2000)\n",
    "y = whitney_loss_fun(x)\n",
    "go.Figure(\n",
    "    data=[go.Scatter(x=x.numpy(), y=y.numpy())],\n",
    "    layout=dict(\n",
    "        width=800,\n",
    "        height=250,\n",
    "        margin=dict(l=20, r=20, b=20, t=20),\n",
    "        xaxis_title=\"param\",\n",
    "        yaxis_title=\"erreur\",\n",
    "    ),\n",
    ")"
   ]
  }
 ],
 "metadata": {
  "kernelspec": {
   "display_name": "neuralnet",
   "language": "python",
   "name": "python3"
  },
  "language_info": {
   "codemirror_mode": {
    "name": "ipython",
    "version": 3
   },
   "file_extension": ".py",
   "mimetype": "text/x-python",
   "name": "python",
   "nbconvert_exporter": "python",
   "pygments_lexer": "ipython3",
   "version": "3.12.3"
  }
 },
 "nbformat": 4,
 "nbformat_minor": 2
}
